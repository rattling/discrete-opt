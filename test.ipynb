{
 "metadata": {
  "language_info": {
   "codemirror_mode": {
    "name": "ipython",
    "version": 3
   },
   "file_extension": ".py",
   "mimetype": "text/x-python",
   "name": "python",
   "nbconvert_exporter": "python",
   "pygments_lexer": "ipython3",
   "version": "3.6.9-final"
  },
  "orig_nbformat": 2,
  "kernelspec": {
   "name": "python36964bitvenvvenvf1bf05a6aa004180b3f2784834158d73",
   "display_name": "Python 3.6.9 64-bit ('venv': venv)"
  }
 },
 "nbformat": 4,
 "nbformat_minor": 2,
 "cells": [
  {
   "cell_type": "code",
   "execution_count": 2,
   "metadata": {},
   "outputs": [],
   "source": [
    "import numpy as np"
   ]
  },
  {
   "cell_type": "code",
   "execution_count": 3,
   "metadata": {},
   "outputs": [],
   "source": [
    "file_location = \"/data/repos/discrete-opt/coursera-course/knapsack/data/ks_4_0\"\n",
    "t = np.loadtxt(file_location, dtype=int)"
   ]
  },
  {
   "cell_type": "code",
   "execution_count": 12,
   "metadata": {},
   "outputs": [
    {
     "output_type": "execute_result",
     "data": {
      "text/plain": [
       "array([[ 4, 11],\n",
       "       [ 8,  4],\n",
       "       [10,  5],\n",
       "       [15,  8],\n",
       "       [ 4,  3]])"
      ]
     },
     "metadata": {},
     "execution_count": 12
    }
   ],
   "source": [
    "t"
   ]
  },
  {
   "cell_type": "code",
   "execution_count": 36,
   "metadata": {},
   "outputs": [
    {
     "output_type": "execute_result",
     "data": {
      "text/plain": [
       "[0, 1, 1, 0]"
      ]
     },
     "metadata": {},
     "execution_count": 36
    }
   ],
   "source": [
    "test = [[0,1,1,0], [1,0,1,0]]\n",
    "value = t[1:,].transpose()[0:,][0]\n",
    "weight = t[1:,].transpose()[1:,][0]\n",
    "option_value = value * test\n",
    "option_weight = weight * test\n",
    "option_value.sum(axis=1).argmax()\n",
    "test[0]\n"
   ]
  },
  {
   "cell_type": "code",
   "execution_count": 34,
   "metadata": {},
   "outputs": [
    {
     "output_type": "execute_result",
     "data": {
      "text/plain": [
       "array([4, 5, 8, 3])"
      ]
     },
     "metadata": {},
     "execution_count": 34
    }
   ],
   "source": [
    "weight"
   ]
  },
  {
   "cell_type": "code",
   "execution_count": 39,
   "metadata": {},
   "outputs": [
    {
     "output_type": "execute_result",
     "data": {
      "text/plain": [
       "array([[0, 5, 8, 0],\n",
       "       [4, 0, 8, 0]])"
      ]
     },
     "metadata": {},
     "execution_count": 39
    }
   ],
   "source": [
    "option_weight"
   ]
  },
  {
   "cell_type": "code",
   "execution_count": 40,
   "metadata": {},
   "outputs": [
    {
     "output_type": "execute_result",
     "data": {
      "text/plain": [
       "array([[ 0, 10, 15,  0],\n",
       "       [ 8,  0, 15,  0]])"
      ]
     },
     "metadata": {},
     "execution_count": 40
    }
   ],
   "source": [
    "option_value"
   ]
  },
  {
   "cell_type": "code",
   "execution_count": 15,
   "metadata": {},
   "outputs": [],
   "source": [
    "option\n",
    "answer = np.where(option_value "
   ]
  },
  {
   "cell_type": "code",
   "execution_count": 10,
   "metadata": {},
   "outputs": [],
   "source": [
    "success = '________processed successfully___________ ' \n",
    "\n",
    "def do_something_google(href):\n",
    "    # special code 1\n",
    "    print('========we do google-specific stuff=======')\n",
    "    return success + href \n",
    "\n",
    "def do_something_bing(href):\n",
    "    # special code 2\n",
    "    print('========we do bing-specific stuff=======')\n",
    "    return success + href \n",
    "\n",
    "def do_something_wikipedia(href):\n",
    "    # special code 3\n",
    "    print('========we do wikipedia-specific stuff=======')\n",
    "    return success + href "
   ]
  },
  {
   "cell_type": "code",
   "execution_count": null,
   "metadata": {},
   "outputs": [],
   "source": []
  },
  {
   "cell_type": "code",
   "execution_count": null,
   "metadata": {},
   "outputs": [],
   "source": []
  },
  {
   "cell_type": "code",
   "execution_count": 11,
   "metadata": {},
   "outputs": [
    {
     "output_type": "stream",
     "name": "stdout",
     "text": [
      "========we do google-specific stuff=======\n"
     ]
    },
    {
     "output_type": "execute_result",
     "data": {
      "text/plain": [
       "'________processed successfully___________ https://google.com'"
      ]
     },
     "metadata": {},
     "execution_count": 11
    }
   ],
   "source": [
    "l = ['google', 'bing', 'wikipedia']\n",
    "\n",
    "href = 'https://google.com'\n",
    "\n",
    "def test(href):\n",
    "    for e in l:\n",
    "        if e + '.' in href:\n",
    "            return globals()['do_something_' + e](href)\n",
    "\n",
    "test(href)"
   ]
  },
  {
   "cell_type": "code",
   "execution_count": null,
   "metadata": {},
   "outputs": [],
   "source": []
  }
 ]
}